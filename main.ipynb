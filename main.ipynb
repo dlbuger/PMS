{
 "cells": [
  {
   "cell_type": "code",
   "execution_count": 1,
   "metadata": {},
   "outputs": [],
   "source": [
    "from flask import Flask\n",
    "from flask import request"
   ]
  },
  {
   "cell_type": "code",
   "execution_count": 2,
   "metadata": {},
   "outputs": [],
   "source": [
    "app = Flask(__name__)"
   ]
  },
  {
   "cell_type": "code",
   "execution_count": 3,
   "metadata": {},
   "outputs": [],
   "source": [
    "@app.route('/luru', methods=['GET', 'POST']) #Flask通过装饰器的模式，绑定url和函数\n",
    "def luru():\n",
    "    return '''<form action=\"/luru\" method=\"post\">\n",
    "                  <body style=\"text-align: center\">\n",
    "                    <h1 style=\"text-align: center\">项目录入系统</h1>\n",
    "                    <p>合同号：<input name=\"合同号\">&nbsp;&nbsp;&nbsp;&nbsp;&nbsp;&nbsp;&nbsp;&nbsp;项目名称：<input name=\"项目名称\"></p>\n",
    "                    <p>预计开始日期：<input name=\"预计开始日期\">&nbsp;&nbsp;&nbsp;&nbsp;&nbsp;&nbsp;&nbsp;&nbsp;实际开始日期：<input name=\"实际开始日期\"></p>\n",
    "                    <p>预计结束日期：<input name=\"预计结束日期\">&nbsp;&nbsp;&nbsp;&nbsp;&nbsp;&nbsp;&nbsp;&nbsp;实际结束日期：<input name=\"实际结束日期\"></p>\n",
    "                    <p>预计硬件成本：<input name=\"预计硬件成本\">&nbsp;&nbsp;&nbsp;&nbsp;&nbsp;&nbsp;&nbsp;&nbsp;实际硬件成本：<input name=\"实际硬件成本\"></p>\n",
    "                    <p>预计软件成本：<input name=\"预计软件成本\">&nbsp;&nbsp;&nbsp;&nbsp;&nbsp;&nbsp;&nbsp;&nbsp;实际软件成本：<input name=\"实际软件成本\"></p>\n",
    "                    <p>预计施工成本：<input name=\"预计施工成本\">&nbsp;&nbsp;&nbsp;&nbsp;&nbsp;&nbsp;&nbsp;&nbsp;实际施工成本：<input name=\"实际施工成本\"></p>\n",
    "                    <p>预计差旅成本：<input name=\"预计差旅成本\">&nbsp;&nbsp;&nbsp;&nbsp;&nbsp;&nbsp;&nbsp;&nbsp;实际差旅成本：<input name=\"实际差旅成本\"></p>\n",
    "                    <p>预计集成成本：<input name=\"预计集成成本\">&nbsp;&nbsp;&nbsp;&nbsp;&nbsp;&nbsp;&nbsp;&nbsp;实际集成成本：<input name=\"实际集成成本\"></p>\n",
    "                    <p><button>录入</button>\n",
    "                    </body>\n",
    "                    </form>'''"
   ]
  },
  {
   "cell_type": "code",
   "execution_count": 4,
   "metadata": {},
   "outputs": [],
   "source": [
    "@app.route('/', methods=['GET', 'POST'])\n",
    "def home():\n",
    "    return '''\n",
    "    <form action=\"/\" method=\"post\">\n",
    "    <body style=\"text-align:center\">\n",
    "    <h1 style=\"text-align:center\">项目管理系统</h1>\n",
    "    <p>合同号或项目名称: <input name=\"查询\">&nbsp;&nbsp;&nbsp;&nbsp;&nbsp;&nbsp;&nbsp;&nbsp;<button>查询</button></p>\n",
    "    <p> <a href=\"/luru\">录入系统</a></p>\n",
    "    \n",
    "    </body>\n",
    "    \n",
    "    \n",
    "    '''"
   ]
  },
  {
   "cell_type": "code",
   "execution_count": null,
   "metadata": {},
   "outputs": [
    {
     "name": "stdout",
     "output_type": "stream",
     "text": [
      " * Serving Flask app \"__main__\" (lazy loading)\n",
      " * Environment: production\n",
      "   WARNING: This is a development server. Do not use it in a production deployment.\n",
      "   Use a production WSGI server instead.\n",
      " * Debug mode: off\n"
     ]
    },
    {
     "name": "stderr",
     "output_type": "stream",
     "text": [
      " * Running on http://127.0.0.1:5000/ (Press CTRL+C to quit)\n",
      "127.0.0.1 - - [09/Jan/2020 16:10:46] \"\u001b[37mGET / HTTP/1.1\u001b[0m\" 200 -\n",
      "127.0.0.1 - - [09/Jan/2020 16:10:47] \"\u001b[37mGET / HTTP/1.1\u001b[0m\" 200 -\n",
      "127.0.0.1 - - [09/Jan/2020 16:10:48] \"\u001b[37mGET /luru HTTP/1.1\u001b[0m\" 200 -\n",
      "127.0.0.1 - - [09/Jan/2020 16:10:52] \"\u001b[37mGET / HTTP/1.1\u001b[0m\" 200 -\n",
      "127.0.0.1 - - [09/Jan/2020 16:10:52] \"\u001b[37mGET / HTTP/1.1\u001b[0m\" 200 -\n",
      "127.0.0.1 - - [09/Jan/2020 16:10:53] \"\u001b[37mGET /luru HTTP/1.1\u001b[0m\" 200 -\n",
      "127.0.0.1 - - [09/Jan/2020 16:10:56] \"\u001b[37mPOST /luru HTTP/1.1\u001b[0m\" 200 -\n",
      "127.0.0.1 - - [09/Jan/2020 16:10:57] \"\u001b[37mPOST /luru HTTP/1.1\u001b[0m\" 200 -\n",
      "127.0.0.1 - - [09/Jan/2020 16:10:57] \"\u001b[37mPOST /luru HTTP/1.1\u001b[0m\" 200 -\n",
      "127.0.0.1 - - [09/Jan/2020 16:10:57] \"\u001b[37mPOST /luru HTTP/1.1\u001b[0m\" 200 -\n",
      "127.0.0.1 - - [09/Jan/2020 16:10:57] \"\u001b[37mPOST /luru HTTP/1.1\u001b[0m\" 200 -\n",
      "127.0.0.1 - - [09/Jan/2020 16:11:13] \"\u001b[37mGET /luru HTTP/1.1\u001b[0m\" 200 -\n",
      "127.0.0.1 - - [09/Jan/2020 16:11:16] \"\u001b[37mPOST / HTTP/1.1\u001b[0m\" 200 -\n",
      "127.0.0.1 - - [09/Jan/2020 16:11:17] \"\u001b[37mPOST / HTTP/1.1\u001b[0m\" 200 -\n",
      "127.0.0.1 - - [09/Jan/2020 16:14:00] \"\u001b[37mGET /luru HTTP/1.1\u001b[0m\" 200 -\n",
      "127.0.0.1 - - [09/Jan/2020 16:20:50] \"\u001b[37mGET /luru HTTP/1.1\u001b[0m\" 200 -\n"
     ]
    }
   ],
   "source": [
    "app.run()"
   ]
  }
 ],
 "metadata": {
  "kernelspec": {
   "display_name": "Python 3",
   "language": "python",
   "name": "python3"
  },
  "language_info": {
   "codemirror_mode": {
    "name": "ipython",
    "version": 3
   },
   "file_extension": ".py",
   "mimetype": "text/x-python",
   "name": "python",
   "nbconvert_exporter": "python",
   "pygments_lexer": "ipython3",
   "version": "3.7.3"
  }
 },
 "nbformat": 4,
 "nbformat_minor": 2
}
